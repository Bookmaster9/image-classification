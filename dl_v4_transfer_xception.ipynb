{
  "nbformat": 4,
  "nbformat_minor": 0,
  "metadata": {
    "colab": {
      "name": "dl-v4-transfer-xception.ipynb",
      "provenance": [],
      "collapsed_sections": [],
      "include_colab_link": true
    },
    "kernelspec": {
      "name": "python3",
      "display_name": "Python 3"
    },
    "accelerator": "GPU"
  },
  "cells": [
    {
      "cell_type": "markdown",
      "metadata": {
        "id": "view-in-github",
        "colab_type": "text"
      },
      "source": [
        "<a href=\"https://colab.research.google.com/github/Bookmaster9/image-classification/blob/master/dl_v4_transfer_xception.ipynb\" target=\"_parent\"><img src=\"https://colab.research.google.com/assets/colab-badge.svg\" alt=\"Open In Colab\"/></a>"
      ]
    },
    {
      "cell_type": "code",
      "metadata": {
        "id": "L89qthGEOV1V",
        "colab": {
          "base_uri": "https://localhost:8080/"
        },
        "outputId": "b84a3df7-2407-4326-9104-33229c2945ca"
      },
      "source": [
        "from google.colab import drive\n",
        "from google.colab import files\n",
        "import cv2\n",
        "import os\n",
        "import shutil\n",
        "import matplotlib.pyplot as plt\n",
        "import numpy as np\n",
        "import tensorflow as tf\n",
        "import seaborn as sns\n",
        "import sklearn.metrics as sm\n",
        "from sklearn.metrics import confusion_matrix\n",
        "from sklearn.metrics import roc_curve, auc, roc_auc_score\n",
        "import itertools\n",
        "# install keras tuner package\n",
        "!pip install -q -U keras-tuner\n",
        "import kerastuner as kt\n",
        "# install kaggle package\n",
        "!pip install -q kaggle\n",
        "\n",
        "# mount google drive for access to local files if necessary\n",
        "drive.mount('/content/drive/')\n",
        "!ls \"/content/drive/My Drive\"\n",
        "\n",
        "# generate the api token json file from kaggle account\n",
        "# upload to drive and then copy\n",
        "!mkdir ~/.kaggle\n",
        "!cp /content/drive/My\\ Drive/app/kaggle.json ~/.kaggle/\n",
        "!chmod 600 ~/.kaggle/kaggle.json\n",
        "\n",
        "#!kaggle datasets list\n",
        "# !kaggle datasets download -d andrewmvd/pediatric-pneumonia-chest-xray\n",
        "!kaggle datasets download -d paultimothymooney/chest-xray-pneumonia\n",
        "!unzip -qq chest-xray-pneumonia.zip\n",
        "!rm chest-xray-pneumonia.zip\n",
        "!rm -rf chest_xray/__MACOSX\n",
        "!rm -rf chest_xray/chest_xray\n",
        "!find . -print | grep -i '.*[.]jpeg' | wc -l\n",
        "\n",
        "# datasets for normal, covid-19, pneumonia-viral and pneumonia-baterial; \n",
        "# curated more complete than Paul M set; only test normal and pneumonia-bacterial classes\n",
        "!kaggle datasets download -d unaissait/curated-chest-xray-image-dataset-for-covid19\n",
        "!unzip -qq curated-chest-xray-image-dataset-for-covid19.zip\n",
        "!rm curated-chest-xray-image-dataset-for-covid19.zip\n",
        "!rm -rf Curated\\ X-Ray\\ Dataset/COVID-19\n",
        "!rm -rf Curated\\ X-Ray\\ Dataset/Pneumonia-Viral\n",
        "!find . -print | grep -i '.*[.]jpg' | wc -l"
      ],
      "execution_count": null,
      "outputs": [
        {
          "output_type": "stream",
          "text": [
            "\u001b[?25l\r\u001b[K     |█████▏                          | 10kB 24.4MB/s eta 0:00:01\r\u001b[K     |██████████▍                     | 20kB 31.4MB/s eta 0:00:01\r\u001b[K     |███████████████▋                | 30kB 34.1MB/s eta 0:00:01\r\u001b[K     |████████████████████▉           | 40kB 37.2MB/s eta 0:00:01\r\u001b[K     |██████████████████████████      | 51kB 33.4MB/s eta 0:00:01\r\u001b[K     |███████████████████████████████▎| 61kB 36.1MB/s eta 0:00:01\r\u001b[K     |████████████████████████████████| 71kB 8.3MB/s \n",
            "\u001b[?25h  Building wheel for keras-tuner (setup.py) ... \u001b[?25l\u001b[?25hdone\n",
            "  Building wheel for terminaltables (setup.py) ... \u001b[?25l\u001b[?25hdone\n",
            "Mounted at /content/drive/\n",
            "'3 18 Weekly Presentation.gslides'\n",
            "'Answer keys_olympiad chemistry reaction questions_aqueous solution_June 10_2020.pdf'\n",
            " app\n",
            " Application.gdoc\n",
            " chem\n",
            "'Colab Notebooks'\n",
            " college-application\n",
            "'Complex ions.pdf'\n",
            "'El conocimiento.gdoc'\n",
            "'honor code.pdf'\n",
            " IMG_5873.MOV\n",
            " Lawrence.xlsx\n",
            " Other\n",
            "'problems i need to redo before the test.gdoc'\n",
            "'Research proposal 2020.docx'\n",
            " rsi-app.docx\n",
            " rsi-app-v2.docx\n",
            "'Untitled document (1).gdoc'\n",
            "'Untitled document (2).gdoc'\n",
            "'Untitled document (3).gdoc'\n",
            "'Untitled document (4).gdoc'\n",
            "'Untitled document.gdoc'\n",
            "'Untitled folder'\n",
            "'Untitled presentation (1).gslides'\n",
            "'Untitled presentation.gslides'\n",
            "'Untitled spreadsheet.gsheet'\n",
            "Downloading chest-xray-pneumonia.zip to /content\n",
            "100% 2.29G/2.29G [00:28<00:00, 47.1MB/s]\n",
            "100% 2.29G/2.29G [00:29<00:00, 84.7MB/s]\n",
            "5860\n",
            "Downloading curated-chest-xray-image-dataset-for-covid19.zip to /content\n",
            "100% 3.49G/3.49G [01:26<00:00, 49.6MB/s]\n",
            "100% 3.49G/3.49G [01:26<00:00, 43.2MB/s]\n",
            "6280\n"
          ],
          "name": "stdout"
        }
      ]
    },
    {
      "cell_type": "code",
      "metadata": {
        "id": "Jsb7zb6p1DpP"
      },
      "source": [
        "\"\"\" remove corrupted images and do basic exploratory analysis on datasets \"\"\"\n",
        "def preprocess_images(path, img_suffix):\n",
        "  num_skipped = 0\n",
        "  img_shape = {}\n",
        "  file_count = {}\n",
        "\n",
        "  for root, dirs, files in os.walk(path, topdown = False):\n",
        "    for dname in dirs:\n",
        "        dpath = os.path.join(root, dname)\n",
        "        n_file = 0\n",
        "        for fname in os.listdir(dpath):\n",
        "          fullpath = os.path.join(dpath, fname)\n",
        "          if(fname.find(img_suffix) > 0):\n",
        "            try:\n",
        "                fobj = open(fullpath, \"rb\")\n",
        "                is_jfif = tf.compat.as_bytes(\"JFIF\") in fobj.peek(10)\n",
        "            finally:\n",
        "                fobj.close()\n",
        "\n",
        "            if not is_jfif:\n",
        "                num_skipped += 1\n",
        "                # Delete corrupted image\n",
        "                os.remove(fullpath)\n",
        "                continue\n",
        "            else:\n",
        "              n_file += 1\n",
        "\n",
        "            img = cv2.imread(fullpath)\n",
        "            img_shape[fname] = img.shape\n",
        "        file_count[dpath] = n_file\n",
        "\n",
        "  for k, v in file_count.items():\n",
        "    print(k, ' --> ', v)\n",
        "\n",
        "  # explor image shapes\n",
        "  sumx = 0\n",
        "  sumy = 0\n",
        "  color = 0\n",
        "  count = 0\n",
        "  x = []\n",
        "  y = []\n",
        "\n",
        "  for k in img_shape:\n",
        "    sumx += img_shape[k][0]\n",
        "    sumy += img_shape[k][1]\n",
        "    color += img_shape[k][2]\n",
        "    x.append(img_shape[k][0])\n",
        "    y.append(img_shape[k][1])\n",
        "    count += 1\n",
        "\n",
        "  avgx = round(sumx / count)\n",
        "  avgy = round(sumy / count)\n",
        "  avgc = round(color / count)\n",
        "\n",
        "  print(\"number of currupted images removed = \", num_skipped)\n",
        "  print('image shape: ', avgx, ' x ', avgy, ' x ', avgc)\n",
        "  sns.regplot(x=x, y=y, line_kws={'lw': 2, 'color': 'red'})"
      ],
      "execution_count": null,
      "outputs": []
    },
    {
      "cell_type": "code",
      "metadata": {
        "id": "29IjCg-1AyE6"
      },
      "source": [
        "def move_files(source, destination):\n",
        "  for i in os.listdir(source):\n",
        "      if not os.path.exists(destination):\n",
        "          shutil.move(os.path.join(source, i), destination)\n",
        "      else:\n",
        "          shutil.copy2(os.path.join(source, i), destination)"
      ],
      "execution_count": null,
      "outputs": []
    },
    {
      "cell_type": "code",
      "metadata": {
        "id": "3FP_uOCreGsw"
      },
      "source": [
        "\"\"\" explore some images before and after augmentation \"\"\"\n",
        "def explore_images(path):\n",
        "  IMAGE_SIZE = (128, 128)\n",
        "  SEED = 1337\n",
        "\n",
        "  train_ds = tf.keras.preprocessing.image_dataset_from_directory(path, validation_split=0.2, subset='training', image_size=IMAGE_SIZE, seed=SEED)\n",
        "  class_names = train_ds.class_names\n",
        "\n",
        "  # original images\n",
        "  plt.figure(figsize=(20, 8))\n",
        "  for images, labels in train_ds.take(1):\n",
        "    for i in range(10):\n",
        "      ax = plt.subplot(2, 5, i + 1)\n",
        "      plt.imshow(images[i].numpy().astype(\"uint8\"))\n",
        "      plt.title(class_names[labels[i]])\n",
        "      # plt.title(int(labels[i]))\n",
        "      plt.axis(\"off\")\n",
        "\n",
        "  # data augmentation - flip and rotate some images \n",
        "  data_augmentation = tf.keras.Sequential(\n",
        "      [\n",
        "          tf.keras.layers.experimental.preprocessing.RandomFlip(\"horizontal\"),\n",
        "          tf.keras.layers.experimental.preprocessing.RandomRotation(0.1),\n",
        "      ]\n",
        "  )\n",
        "\n",
        "  # images after augmentations\n",
        "  plt.figure(figsize=(20, 8))\n",
        "  for images, labels in train_ds.take(1):\n",
        "      for i in range(10):\n",
        "          augmented_images = data_augmentation(images)\n",
        "          ax = plt.subplot(2, 5, i + 1)\n",
        "          plt.imshow(augmented_images[0].numpy().astype(\"uint8\"))\n",
        "          plt.title(class_names[int(labels[i])])\n",
        "          plt.axis(\"off\")\n",
        "  plt.show()"
      ],
      "execution_count": null,
      "outputs": []
    },
    {
      "cell_type": "code",
      "metadata": {
        "id": "3ve8l0-u1Luo"
      },
      "source": [
        "### build a base model\n",
        "def build_base_model(image_size, num_classes, learning_rate):\n",
        "\n",
        "  model = tf.keras.models.Sequential()\n",
        "  model.add(tf.keras.layers.Conv2D(filters=32,kernel_size=3,activation='relu',input_shape=image_size + (3,)))\n",
        "  model.add(tf.keras.layers.MaxPool2D(pool_size=2,strides=2))\n",
        "\n",
        "  model.add(tf.keras.layers.Conv2D(filters=64,kernel_size=3,activation='relu'))\n",
        "  model.add(tf.keras.layers.MaxPool2D(pool_size=2,strides=2))\n",
        "\n",
        "  model.add(tf.keras.layers.Conv2D(filters=128,kernel_size=3,activation='relu'))\n",
        "  model.add(tf.keras.layers.MaxPool2D(pool_size=2,strides=2))\n",
        "\n",
        "  model.add(tf.keras.layers.Conv2D(filters=256,kernel_size=3,activation='relu'))\n",
        "  model.add(tf.keras.layers.MaxPool2D(pool_size=2,strides=2))\n",
        "\n",
        "  model.add(tf.keras.layers.Flatten())\n",
        "\n",
        "  model.add(tf.keras.layers.Dense(units=128,activation='relu'))\n",
        "  model.add(tf.keras.layers.Dense(units=64,activation='relu'))\n",
        "\n",
        "  if num_classes == 2:\n",
        "    activation = \"sigmoid\"\n",
        "    units = 1\n",
        "  else:\n",
        "    activation = \"softmax\"\n",
        "    units = num_classes\n",
        "\n",
        "  model.add(tf.keras.layers.Dense(units,activation=activation))\n",
        "\n",
        "  model.compile(\n",
        "      optimizer=tf.keras.optimizers.Adam(learning_rate=learning_rate),\n",
        "      loss=\"binary_crossentropy\",\n",
        "      metrics=[\"accuracy\"],\n",
        "  )\n",
        "  return model"
      ],
      "execution_count": null,
      "outputs": []
    },
    {
      "cell_type": "code",
      "metadata": {
        "id": "Usw6QLMqOkS2"
      },
      "source": [
        "def build_augmented_model(image_size, num_classes, learning_rate, regularizer=None):\n",
        "\n",
        "  data_augmentation = tf.keras.Sequential(\n",
        "      [\n",
        "          tf.keras.layers.experimental.preprocessing.RandomFlip(\"horizontal\"),\n",
        "          tf.keras.layers.experimental.preprocessing.RandomRotation(0.1),\n",
        "      ]\n",
        "  )\n",
        "\n",
        "  inputs = tf.keras.Input(shape = image_size + (3,))\n",
        "  model = data_augmentation(inputs)\n",
        "\n",
        "  model = tf.keras.layers.Conv2D(filters=32,kernel_size=3,activation='relu')(model)\n",
        "  model = tf.keras.layers.MaxPool2D(pool_size=2,strides=2)(model)\n",
        "\n",
        "  model = tf.keras.layers.Conv2D(filters=64,kernel_size=3,activation='relu')(model)\n",
        "  model = tf.keras.layers.MaxPool2D(pool_size=2,strides=2)(model)\n",
        "\n",
        "  model = tf.keras.layers.Conv2D(filters=128,kernel_size=3,activation='relu')(model)\n",
        "  model = tf.keras.layers.MaxPool2D(pool_size=2,strides=2)(model)\n",
        "\n",
        "  model = tf.keras.layers.Conv2D(filters=256,kernel_size=3,activation='relu')(model)\n",
        "  model = tf.keras.layers.MaxPool2D(pool_size=2,strides=2)(model)\n",
        "\n",
        "  model = tf.keras.layers.Flatten()(model)\n",
        "\n",
        "  if regularizer is None:\n",
        "    model = tf.keras.layers.Dense(units=128,activation='relu')(model)\n",
        "    model = tf.keras.layers.Dropout(0.3)(model)\n",
        "    model = tf.keras.layers.Dense(units=64,activation='relu')(model)\n",
        "\n",
        "  elif regularizer.lower() == 'l1':\n",
        "    model = tf.keras.layers.Dense(units=128,activation='relu', bias_regularizer=tf.keras.regularizers.l1(l=0.01))(model)\n",
        "    model = tf.keras.layers.Dropout(0.3)(model)\n",
        "    model = tf.keras.layers.Dense(units=64,activation='relu', bias_regularizer=tf.keras.regularizers.l1(l=0.01))(model)\n",
        "\n",
        "  elif regularizer.lower() == 'l2':\n",
        "    model = tf.keras.layers.Dense(units=128,activation='relu', bias_regularizer=tf.keras.regularizers.l2(l=0.001))(model)\n",
        "    model = tf.keras.layers.Dropout(0.3)(model)\n",
        "    model = tf.keras.layers.Dense(units=64,activation='relu', bias_regularizer=tf.keras.regularizers.l2(l=0.001))(model)\n",
        "\n",
        "  elif regularizer.lower() == 'l1l2':\n",
        "    model = tf.keras.layers.Dense(units=128,activation='relu', bias_regularizer=tf.keras.regularizers.L1L2(l1=0.01, l2=0.001))(model)\n",
        "    model = tf.keras.layers.Dropout(0.3)(model)\n",
        "    model = tf.keras.layers.Dense(units=64,activation='relu', bias_regularizer=tf.keras.regularizers.L1L2(l1=0.01, l2=0.001))(model)\n",
        "\n",
        "  if num_classes == 2:\n",
        "    activation = \"sigmoid\"\n",
        "    units = 1\n",
        "  else:\n",
        "    activation = \"softmax\"\n",
        "    units = num_classes\n",
        "\n",
        "  outputs = tf.keras.layers.Dense(units, activation=activation)(model)\n",
        "  \n",
        "  model = tf.keras.Model(inputs, outputs)\n",
        "\n",
        "  model.compile(\n",
        "      optimizer=tf.keras.optimizers.Adam(learning_rate=learning_rate),\n",
        "      loss=\"binary_crossentropy\",\n",
        "      metrics=[\"accuracy\"],\n",
        "  )\n",
        "\n",
        "  return model"
      ],
      "execution_count": null,
      "outputs": []
    },
    {
      "cell_type": "code",
      "metadata": {
        "id": "9oK3tmxUcnfD"
      },
      "source": [
        "def build_tunable_model(hp):\n",
        "\n",
        "  image_size = (128, 128)\n",
        "  input_shape = image_size + (3,)\n",
        "  inputs = tf.keras.Input(shape=input_shape)\n",
        "  data_augmentation = tf.keras.Sequential(\n",
        "    [\n",
        "        tf.keras.layers.experimental.preprocessing.RandomFlip(\"horizontal\"),\n",
        "        tf.keras.layers.experimental.preprocessing.RandomRotation(0.1),\n",
        "    ]\n",
        "  )\n",
        "  x = data_augmentation(inputs)\n",
        "\n",
        "  for i in range(hp.Int('conv_blocks', 3, 5, default = 3)):\n",
        "    filters = hp.Int('flters_' + str(i), 32, 256, step=32)\n",
        "    x = tf.keras.layers.Conv2D(filters, kernel_size=3, activation='relu', padding = 'same')(x)\n",
        "    x = tf.keras.layers.BatchNormalization()(x)\n",
        "    x = tf.keras.layers.MaxPool2D(pool_size=2, strides=2, padding='same')(x)\n",
        "\n",
        "  x = tf.keras.layers.Flatten()(x)\n",
        "\n",
        "  for j in range(hp.Int('dense_blocks', 1, 2, default = 2)):\n",
        "    dense_layers = hp.Int('dense_' + str(j), 32, 128, step=32, default=64)\n",
        "    x = tf.keras.layers.Dense(dense_layers, activation='relu')(x)\n",
        "    x = tf.keras.layers.Dropout(\n",
        "        hp.Float('dropout', 0.0, 0.5, step=0.1, default = 0.2))(x)\n",
        "\n",
        "  outputs = tf.keras.layers.Dense(1, activation=\"sigmoid\")(x)\n",
        "\n",
        "  model = tf.keras.Model(inputs, outputs)\n",
        "\n",
        "  model.compile(\n",
        "    optimizer=tf.keras.optimizers.Adam(\n",
        "      hp.Choice('learning_rate', values = [1e-6, 1e-5, 1e-4])),\n",
        "      loss='binary_crossentropy',\n",
        "      metrics=['accuracy'])\n",
        "  return model\n"
      ],
      "execution_count": null,
      "outputs": []
    },
    {
      "cell_type": "code",
      "metadata": {
        "id": "HsTDFM_qBjvW"
      },
      "source": [
        "def tune_model(train_ds, val_ds, class_weights):\n",
        "  tuner = kt.Hyperband(\n",
        "      build_tunable_model,\n",
        "      objective='val_accuracy',\n",
        "      max_epochs=10,\n",
        "      hyperband_iterations=2,\n",
        "      overwrite=True)\n",
        "\n",
        "  tuner.search(train_ds,\n",
        "              validation_data=val_ds,\n",
        "              class_weight = class_weights,\n",
        "              callbacks=[tf.keras.callbacks.EarlyStopping(patience=1)])\n",
        "\n",
        "  best_model = tuner.get_best_models(1)[0]\n",
        "\n",
        "  return best_model"
      ],
      "execution_count": null,
      "outputs": []
    },
    {
      "cell_type": "code",
      "metadata": {
        "id": "Qp7OJizUml2y"
      },
      "source": [
        "def build_tuned_model(image_size, num_classes, learning_rate):\n",
        "\n",
        "  data_augmentation = tf.keras.Sequential(\n",
        "      [\n",
        "          tf.keras.layers.experimental.preprocessing.RandomFlip(\"horizontal\"),\n",
        "          tf.keras.layers.experimental.preprocessing.RandomRotation(0.1),\n",
        "      ]\n",
        "  )\n",
        "\n",
        "  inputs = tf.keras.Input(shape = image_size + (3,))\n",
        "  model = data_augmentation(inputs)\n",
        "\n",
        "  model = tf.keras.layers.Conv2D(filters=160,kernel_size=3,activation='relu', padding = 'same')(model)\n",
        "  model = tf.keras.layers.BatchNormalization()(model)\n",
        "  model = tf.keras.layers.MaxPool2D(pool_size=2,strides=2)(model)\n",
        "\n",
        "  model = tf.keras.layers.Conv2D(filters=128,kernel_size=3,activation='relu', padding = 'same')(model)\n",
        "  model = tf.keras.layers.BatchNormalization()(model)\n",
        "  model = tf.keras.layers.MaxPool2D(pool_size=2,strides=2)(model)\n",
        "\n",
        "  model = tf.keras.layers.Conv2D(filters=192,kernel_size=3,activation='relu',padding = 'same')(model)\n",
        "  model = tf.keras.layers.BatchNormalization()(model)\n",
        "  model = tf.keras.layers.MaxPool2D(pool_size=2,strides=2)(model)\n",
        "\n",
        "  model = tf.keras.layers.Conv2D(filters=160,kernel_size=3,activation='relu',padding = 'same')(model)\n",
        "  model = tf.keras.layers.BatchNormalization()(model)\n",
        "  model = tf.keras.layers.MaxPool2D(pool_size=2,strides=2)(model)\n",
        "\n",
        "  model = tf.keras.layers.Flatten()(model)\n",
        "\n",
        "  model = tf.keras.layers.Dense(units=96,activation='relu')(model)\n",
        "  model = tf.keras.layers.Dropout(0.3)(model)\n",
        "\n",
        "  if num_classes == 2:\n",
        "    activation = \"sigmoid\"\n",
        "    units = 1\n",
        "  else:\n",
        "    activation = \"softmax\"\n",
        "    units = num_classes\n",
        "\n",
        "  outputs = tf.keras.layers.Dense(units, activation=activation)(model)\n",
        "  \n",
        "  model = tf.keras.Model(inputs, outputs)\n",
        "\n",
        "  model.compile(\n",
        "      optimizer=tf.keras.optimizers.Adam(learning_rate=learning_rate),\n",
        "      loss=\"binary_crossentropy\",\n",
        "      metrics=[\"accuracy\"],\n",
        "  )\n",
        "\n",
        "  return model"
      ],
      "execution_count": null,
      "outputs": []
    },
    {
      "cell_type": "code",
      "metadata": {
        "id": "3jmVyCyqNdMz"
      },
      "source": [
        "def train_base_model(model, train_ds, val_ds, epochs, save_model_fname):\n",
        "\n",
        "  callbacks = [\n",
        "      tf.keras.callbacks.ModelCheckpoint(\"save_at_{epoch}.h5\"),\n",
        "  ]\n",
        "\n",
        "  history = model.fit(\n",
        "      train_ds, epochs=epochs, callbacks=callbacks, validation_data=val_ds,\n",
        "  )\n",
        "\n",
        "  model.save(save_model_fname)\n",
        "\n",
        "  return history"
      ],
      "execution_count": null,
      "outputs": []
    },
    {
      "cell_type": "code",
      "metadata": {
        "id": "b_Ok5m-BScML"
      },
      "source": [
        "def train_weighted_model(model, train_ds, val_ds, epochs, save_model_fname, class_weights):\n",
        "\n",
        "  callbacks = [\n",
        "      tf.keras.callbacks.ModelCheckpoint(\"save_at_{epoch}.h5\"),\n",
        "  ]\n",
        "\n",
        "  history = model.fit(\n",
        "      train_ds, epochs=epochs, callbacks=callbacks, validation_data=val_ds, class_weight=class_weights\n",
        "  )\n",
        "\n",
        "  model.save(save_model_fname)\n",
        "\n",
        "  return history"
      ],
      "execution_count": null,
      "outputs": []
    },
    {
      "cell_type": "code",
      "metadata": {
        "id": "jYHb_3xLcR-q"
      },
      "source": [
        "def train_weighted_model_es(model, train_ds, val_ds, epochs, save_model_fname, class_weights):\n",
        "\n",
        "  earlystop_callbacks = [\n",
        "      tf.keras.callbacks.EarlyStopping(\n",
        "      monitor='val_accuracy',\n",
        "      min_delta=0.00005,\n",
        "      patience=3)\n",
        "  ]\n",
        "\n",
        "  history = model.fit(\n",
        "      train_ds, epochs=epochs, callbacks = earlystop_callbacks, validation_data=val_ds, class_weight=class_weights\n",
        "  )\n",
        "\n",
        "  model.save(save_model_fname)\n",
        "\n",
        "  return history"
      ],
      "execution_count": null,
      "outputs": []
    },
    {
      "cell_type": "code",
      "metadata": {
        "id": "XcuUHUVIQyEz"
      },
      "source": [
        "def plot_accuracy(history):\n",
        "  plt.plot(history.history['accuracy'])\n",
        "  plt.plot(history.history['val_accuracy'])\n",
        "  plt.title('Model accuracy vs. No. of epochs')\n",
        "  plt.ylabel('accuracy')\n",
        "  plt.xlabel('epoch')\n",
        "  plt.legend(['train', 'val'], loc='lower right')\n",
        "  plt.show()  "
      ],
      "execution_count": null,
      "outputs": []
    },
    {
      "cell_type": "code",
      "metadata": {
        "id": "sFR7YLZP2m0l"
      },
      "source": [
        "def plot_loss(history):\n",
        "  plt.plot(history.history['loss'])\n",
        "  plt.plot(history.history['val_loss'])\n",
        "  plt.title('Model loss vs. No of epochs')\n",
        "  plt.ylabel('loss')\n",
        "  plt.xlabel('epoch')\n",
        "  plt.legend(['train', 'val'], loc='upper right')\n",
        "  plt.show()"
      ],
      "execution_count": null,
      "outputs": []
    },
    {
      "cell_type": "code",
      "metadata": {
        "id": "YOapX3ffT4tN"
      },
      "source": [
        "def predict_image(model_path, image_path, image_size=(128, 128)):\n",
        "  CATEGORIES = ['Normal', 'Pneumonia']\n",
        "\n",
        "  img = tf.keras.preprocessing.image.load_img(image_path, target_size=image_size)\n",
        "  img_array = tf.keras.preprocessing.image.img_to_array(img)\n",
        "  img_array = tf.expand_dims(img_array, 0)\n",
        "\n",
        "  loaded_model = tf.keras.models.load_model(model_path)\n",
        "  predictions = loaded_model.predict(img_array)\n",
        "  score = predictions[0]\n",
        "\n",
        "  print(\n",
        "      \"This image is %.2f percent NORMAL and %.2f percent PNEUMONIA.\"\n",
        "      % (100 * (1-score), 100 * score)\n",
        "  )\n",
        "\n",
        "  return CATEGORIES[(predictions[0][0] > 0.5).astype(\"int32\")]"
      ],
      "execution_count": null,
      "outputs": []
    },
    {
      "cell_type": "code",
      "metadata": {
        "id": "bRc4dQCGiyV7"
      },
      "source": [
        "def predict_batch(model_path, folder_path, predict_class, image_size=(128, 128)):\n",
        " \n",
        "  # load the trained model\n",
        "  model = tf.keras.models.load_model(model_path)\n",
        "\n",
        "  images = []\n",
        "  num_images = 0\n",
        "\n",
        "  for img in os.listdir(folder_path):\n",
        "    num_images += 1\n",
        "    img = os.path.join(folder_path, img)\n",
        "    img = tf.keras.preprocessing.image.load_img(img, target_size=image_size)\n",
        "    img = tf.keras.preprocessing.image.img_to_array(img)\n",
        "    img = np.expand_dims(img, axis=0)\n",
        "    images.append(img)\n",
        "\n",
        "  images = np.vstack(images)\n",
        "  predictions = model.predict(images, batch_size=10)\n",
        "  classes = (predictions[:,0] > 0.5).astype(\"int32\")\n",
        "\n",
        "  num_correct = int(sum(classes))\n",
        "  \n",
        "  if(predict_class == 0):\n",
        "    num_correct = num_images - num_correct\n",
        "\n",
        "  print(\"number of images in the path = \", num_images)\n",
        "  print(\"number of images classified correctly = \", num_correct)\n",
        "  print(\"classification accuracy = %.2f percent\" % round(100 * (num_correct/num_images), 2))\n",
        "\n",
        "  return round(100 * (num_correct/num_images), 2)\n"
      ],
      "execution_count": null,
      "outputs": []
    },
    {
      "cell_type": "code",
      "metadata": {
        "id": "GzhgFCQqu1rW"
      },
      "source": [
        "def get_confusion_matrix(model_path, test_data_path, image_size=(128, 128)):\n",
        "\n",
        "  model = tf.keras.models.load_model(model_path)\n",
        "  \n",
        "  test_generator = tf.keras.preprocessing.image.ImageDataGenerator()\n",
        "  test_data_generator = test_generator.flow_from_directory(\n",
        "      test_data_path,\n",
        "      target_size=image_size,\n",
        "      batch_size=2,\n",
        "      shuffle=False)\n",
        "  test_steps_per_epoch = np.math.ceil(test_data_generator.samples / test_data_generator.batch_size)\n",
        "\n",
        "  predictions = model.predict_generator(test_data_generator, steps=test_steps_per_epoch, verbose=1, workers=0)\n",
        "\n",
        "  predicted_classes = np.where(predictions>0.5, 1, 0)\n",
        "\n",
        "  true_classes = test_data_generator.classes\n",
        "\n",
        "  class_labels = list(test_data_generator.class_indices.keys())\n",
        "\n",
        "  report = sm.classification_report(true_classes, predicted_classes, target_names=class_labels)\n",
        "  print(report)\n",
        "\n",
        "  cm = sm.confusion_matrix(true_classes, predicted_classes)\n",
        "\n",
        "  return cm"
      ],
      "execution_count": null,
      "outputs": []
    },
    {
      "cell_type": "code",
      "metadata": {
        "id": "ZUgYzfaRpRjW"
      },
      "source": [
        "def plot_confusion_matrix(cm, classes,\n",
        "                        normalize=False,\n",
        "                        title='Confusion matrix',\n",
        "                        cmap='YlGnBu'):\n",
        "\n",
        "    plt.imshow(cm, interpolation='nearest', cmap=cmap)\n",
        "    plt.title(title)\n",
        "    plt.colorbar()\n",
        "    tick_marks = np.arange(len(classes))\n",
        "    plt.xticks(tick_marks, classes, rotation=45)\n",
        "    plt.yticks(tick_marks, classes)\n",
        "\n",
        "    if normalize: # normalized cm\n",
        "        cm = cm.astype('float') / cm.sum(axis=1)[:, np.newaxis]\n",
        "\n",
        "    thresh = cm.max() / 2.\n",
        "    for i, j in itertools.product(range(cm.shape[0]), range(cm.shape[1])):\n",
        "        plt.text(j, i, cm[i, j],\n",
        "            horizontalalignment=\"center\",\n",
        "            color=\"white\" if cm[i, j] > thresh else \"black\")\n",
        "\n",
        "    plt.tight_layout()\n",
        "    plt.ylabel('True class label')\n",
        "    plt.xlabel('Predicted class label')\n",
        "    plt.show()"
      ],
      "execution_count": null,
      "outputs": []
    },
    {
      "cell_type": "code",
      "metadata": {
        "id": "dcWxBN190cMP"
      },
      "source": [
        "def plot_cm(pred_matrix, classes):\n",
        "  fig, ax = plt.subplots(figsize=(8,8))\n",
        "  sns.heatmap(pred_matrix, annot=True, fmt='g', linewidth=0.5, square=True,  cmap=\"YlGnBu\", ax=ax, xticklabels=classes, yticklabels=classes)\n",
        "  plt.ylabel('True class label')\n",
        "  plt.xlabel('Predicted class label')\n",
        "  plt.show()"
      ],
      "execution_count": null,
      "outputs": []
    },
    {
      "cell_type": "code",
      "metadata": {
        "id": "ONZfyGOY1nIY"
      },
      "source": [
        "def plot_roc(model_path, test_data_path, image_size=(128, 128)):\n",
        "\n",
        "  model = tf.keras.models.load_model(model_path)\n",
        "  \n",
        "  test_generator = tf.keras.preprocessing.image.ImageDataGenerator()\n",
        "  test_data_generator = test_generator.flow_from_directory(\n",
        "      test_data_path,\n",
        "      target_size=image_size,\n",
        "      batch_size=2,\n",
        "      shuffle=False)\n",
        "  test_steps_per_epoch = np.math.ceil(test_data_generator.samples / test_data_generator.batch_size)\n",
        "\n",
        "  predictions = model.predict_generator(test_data_generator, steps=test_steps_per_epoch, verbose=1, workers=0)\n",
        "\n",
        "  # predicted_classes = np.where(predictions>0.5, 1, 0)\n",
        "  # class_labels = list(test_data_generator.class_indices.keys())\n",
        "\n",
        "  true_classes = test_data_generator.classes\n",
        "\n",
        "  fpr_keras, tpr_keras, thresholds_keras = roc_curve(true_classes, predictions)\n",
        "  auc_keras = auc(fpr_keras, tpr_keras)\n",
        "\n",
        "  plt.plot(fpr_keras, tpr_keras, color='darkorange', label='ROC curve (area = %0.2f)' % auc_keras)\n",
        "  plt.plot([0, 1], [0, 1], color='navy', linestyle='--')\n",
        "  plt.xlim([0.0, 1.0])\n",
        "  plt.ylim([0.0, 1.05])\n",
        "  plt.xlabel('False Positive Rate')\n",
        "  plt.ylabel('True Positive Rate')\n",
        "  plt.title('Receiver operating characteristic curve')\n",
        "  plt.legend(loc=\"lower right\")\n",
        "  plt.show()\n"
      ],
      "execution_count": null,
      "outputs": []
    },
    {
      "cell_type": "code",
      "metadata": {
        "id": "jNqURSxDJRIS"
      },
      "source": [
        "def build_xception_model(image_size, learning_rate = 1e-5):\n",
        "\n",
        "  data_augmentation = tf.keras.Sequential(\n",
        "      [\n",
        "          tf.keras.layers.experimental.preprocessing.RandomFlip(\"horizontal\"),\n",
        "          tf.keras.layers.experimental.preprocessing.RandomRotation(0.1),\n",
        "      ]\n",
        "  )\n",
        "\n",
        "  base_model = tf.keras.applications.Xception(\n",
        "      weights = \"imagenet\",  # Load weights pre-trained on ImageNet.\n",
        "      input_shape = image_size + (3,),\n",
        "      include_top = False,\n",
        "  )\n",
        "\n",
        "  # Freeze the base_model\n",
        "  base_model.trainable = False\n",
        "\n",
        "  # Create new model on top\n",
        "  inputs = tf.keras.Input(shape = image_size + (3,))\n",
        "  x = data_augmentation(inputs)\n",
        "  # x = keras.layers.experimental.preprocessing.Rescaling(1.0 / 255)(x)\n",
        "\n",
        "  # Pre-trained Xception weights require that input be normalized from (0, 255) to a range (-1., +1.)\n",
        "  norm_layer = tf.keras.layers.experimental.preprocessing.Normalization()\n",
        "  mean = np.array([127.5] * 3)\n",
        "  var = mean ** 2\n",
        "  # Scale inputs to [-1, +1]\n",
        "  x = norm_layer(x)\n",
        "  norm_layer.set_weights([mean, var])\n",
        "\n",
        "  # The base model contains batchnorm layers. We want to keep them in inference mode\n",
        "  x = base_model(x, training = False)\n",
        "  x = tf.keras.layers.GlobalAveragePooling2D()(x)\n",
        "\n",
        "  # add a fully connected layer and regularize with dropout\n",
        "  x = tf.keras.layers.Dense(units = 96, activation = 'relu')(x)\n",
        "  x = tf.keras.layers.Dropout(0.3)(x)\n",
        "\n",
        "  # binary classifier output\n",
        "  outputs = tf.keras.layers.Dense(1, activation=\"sigmoid\")(x)\n",
        "\n",
        "  model = tf.keras.Model(inputs, outputs)\n",
        "\n",
        "  model.compile(\n",
        "      optimizer=tf.keras.optimizers.Adam(learning_rate=learning_rate),\n",
        "      loss=tf.keras.losses.BinaryCrossentropy(from_logits=True),\n",
        "      metrics=[tf.keras.metrics.BinaryAccuracy()],\n",
        "  )\n",
        "\n",
        "  return (base_model, model)"
      ],
      "execution_count": null,
      "outputs": []
    },
    {
      "cell_type": "code",
      "metadata": {
        "id": "LRweHqBDNTC0"
      },
      "source": [
        "def train_xception_model(base_model, model, train_ds, val_ds, save_model_fname, class_weights, initial_epochs=20, fine_tune_epochs=10, learning_rate=1e-5):\n",
        "\n",
        "  # first pass with base model bottom layers frozen\n",
        "  history = model.fit(train_ds, epochs=initial_epochs, validation_data=val_ds, class_weight=class_weights)\n",
        "\n",
        "  acc = history.history['binary_accuracy']\n",
        "  val_acc = history.history['val_binary_accuracy']\n",
        "\n",
        "  loss = history.history['loss']\n",
        "  val_loss = history.history['val_loss']\n",
        "\n",
        "  # Unfreeze the base_model\n",
        "  base_model.trainable = True\n",
        "  model.compile(\n",
        "      optimizer=tf.keras.optimizers.Adam(learning_rate=learning_rate),  # Low learning rate\n",
        "      loss=tf.keras.losses.BinaryCrossentropy(from_logits=True),\n",
        "      metrics=[tf.keras.metrics.BinaryAccuracy()],\n",
        "  )\n",
        "\n",
        "  # fine tune the model\n",
        "  total_epochs = initial_epochs + fine_tune_epochs\n",
        "  history_fine = model.fit(train_ds, epochs=total_epochs, initial_epoch=history.epoch[-1], validation_data=val_ds, class_weight=class_weights)\n",
        "\n",
        "  acc += history_fine.history['binary_accuracy']\n",
        "  val_acc += history_fine.history['val_binary_accuracy']\n",
        "\n",
        "  loss += history_fine.history['loss']\n",
        "  val_loss += history_fine.history['val_loss']\n",
        "\n",
        "  # save the model\n",
        "  model.save(save_model_fname)\n",
        "\n",
        "  return (acc, val_acc, loss, val_loss)"
      ],
      "execution_count": null,
      "outputs": []
    },
    {
      "cell_type": "code",
      "metadata": {
        "id": "Vld4RcJpydRr"
      },
      "source": [
        "def plot_acc_loss (acc, val_acc, loss, val_loss, initial_epochs):\n",
        "\n",
        "  plt.figure(figsize=(8, 8))\n",
        "  plt.subplot(2, 1, 1)\n",
        "  plt.plot(acc, label='Training Accuracy')\n",
        "  plt.plot(val_acc, label='Validation Accuracy')\n",
        "  plt.ylim([0.8, 1])\n",
        "  plt.plot([initial_epochs-1,initial_epochs-1],\n",
        "            plt.ylim(), label='Start Fine Tuning')\n",
        "  plt.legend(loc='lower right')\n",
        "  plt.title('Training and Validation Accuracy')\n",
        "\n",
        "  plt.subplot(2, 1, 2)\n",
        "  plt.plot(loss, label='Training Loss')\n",
        "  plt.plot(val_loss, label='Validation Loss')\n",
        "  plt.ylim([0, 1.0])\n",
        "  plt.plot([initial_epochs-1,initial_epochs-1],\n",
        "          plt.ylim(), label='Start Fine Tuning')\n",
        "  plt.legend(loc='upper right')\n",
        "  plt.title('Training and Validation Loss')\n",
        "  plt.xlabel('epoch')\n",
        "  plt.show()"
      ],
      "execution_count": null,
      "outputs": []
    },
    {
      "cell_type": "code",
      "metadata": {
        "id": "oss6Kczyi1sx"
      },
      "source": [
        "def plot_rocs(models, test_data_path, image_size=(128,128)):\n",
        "\n",
        "  # load test dataset\n",
        "  test_generator = tf.keras.preprocessing.image.ImageDataGenerator()\n",
        "  test_data_generator = test_generator.flow_from_directory(\n",
        "      test_data_path,\n",
        "      target_size=image_size,\n",
        "      batch_size=2,\n",
        "      shuffle=False)\n",
        "  test_steps_per_epoch = np.math.ceil(test_data_generator.samples / test_data_generator.batch_size)\n",
        "\n",
        "  # Below for loop iterates through models list\n",
        "  plt.figure()\n",
        "\n",
        "  for m in models:\n",
        "\n",
        "    # select and load the model\n",
        "    model_path = m['model']\n",
        "    model = tf.keras.models.load_model(model_path)\n",
        "\n",
        "    predictions = model.predict_generator(test_data_generator, steps=test_steps_per_epoch, verbose=1, workers=0)\n",
        "\n",
        "    true_classes = test_data_generator.classes\n",
        "\n",
        "    fpr_keras, tpr_keras, thresholds_keras = roc_curve(true_classes, predictions)\n",
        "    auc_keras = auc(fpr_keras, tpr_keras)\n",
        "\n",
        "    plt.plot(fpr_keras, tpr_keras, label='%s ROC (area = %0.2f)' % (m['label'], auc_keras))\n",
        "\n",
        "  # parameters for entire plot\n",
        "  plt.plot([0, 1], [0, 1],'r--')\n",
        "  plt.xlim([0.0, 1.0])\n",
        "  plt.ylim([0.0, 1.05])\n",
        "  plt.xlabel('1-Specificity (False Positive Rate)')\n",
        "  plt.ylabel('Sensitivity (True Positive Rate)')\n",
        "  plt.title('Receiver Operating Characteristic Curve')\n",
        "  plt.legend(loc=\"lower right\")\n",
        "  plt.show()   # Display"
      ],
      "execution_count": null,
      "outputs": []
    },
    {
      "cell_type": "code",
      "metadata": {
        "colab": {
          "base_uri": "https://localhost:8080/",
          "height": 1000
        },
        "id": "aCetbThGeySy",
        "outputId": "f80297da-ecbc-4f29-911a-39f6f3fd5b02"
      },
      "source": [
        "# image file clean up\n",
        "preprocess_images('./chest_xray', '.jpeg')\n",
        "preprocess_images('./Curated X-Ray Dataset', '.jpg')\n",
        "\n",
        "# combine files from validation dir to training dir\n",
        "move_files('chest_xray/val/NORMAL', 'chest_xray/train/NORMAL')\n",
        "move_files('chest_xray/val/PNEUMONIA', 'chest_xray/train/PNEUMONIA')\n",
        "\n",
        "image_size = (128, 128)\n",
        "vsplit = 0.2\n",
        "seed = 1337\n",
        "class_weights = {0: 2.88, 1: 1.00}\n",
        "initial_epochs = 20\n",
        "fine_tune_epochs = 10\n",
        "save_model_fname = 'drive/My Drive/app/xray/xray-model-transfer-balance-def.h5'\n",
        "\n",
        "# build a model based on xception\n",
        "base_model, model = build_xception_model(image_size, learning_rate = 1e-5)\n",
        "model.summary()\n",
        "\n",
        "train_ds = tf.keras.preprocessing.image_dataset_from_directory('chest_xray/train', validation_split=vsplit, subset='training', seed=seed, image_size=image_size)\n",
        "val_ds = tf.keras.preprocessing.image_dataset_from_directory('chest_xray/train', validation_split=vsplit, subset='validation', seed=seed, image_size=image_size)\n",
        "test_ds = tf.keras.preprocessing.image_dataset_from_directory('chest_xray/test', image_size=image_size)\n",
        "\n",
        "# train and fine tune the model\n",
        "acc, val_acc, loss, val_loss = train_xception_model(\n",
        "    base_model, model, train_ds, val_ds, save_model_fname, class_weights, initial_epochs=initial_epochs, fine_tune_epochs=fine_tune_epochs, learning_rate=1e-5)\n",
        "\n",
        "# plot the model accuracy and loss\n",
        "plot_acc_loss (acc, val_acc, loss, val_loss, initial_epochs)\n",
        "\n",
        "# evaluate the test ds\n",
        "loss, accuracy = model.evaluate(test_ds)\n",
        "print('Test accuracy :', accuracy)"
      ],
      "execution_count": null,
      "outputs": [
        {
          "output_type": "stream",
          "text": [
            "./chest_xray/train/PNEUMONIA  -->  3743\n",
            "./chest_xray/train/NORMAL  -->  1300\n",
            "./chest_xray/val/PNEUMONIA  -->  8\n",
            "./chest_xray/val/NORMAL  -->  2\n",
            "./chest_xray/test/PNEUMONIA  -->  352\n",
            "./chest_xray/test/NORMAL  -->  234\n",
            "./chest_xray/train  -->  0\n",
            "./chest_xray/val  -->  0\n",
            "./chest_xray/test  -->  0\n",
            "number of currupted images removed =  217\n",
            "image shape:  967  x  1325  x  3\n",
            "./Curated X-Ray Dataset/Pneumonia-Bacterial  -->  3001\n",
            "./Curated X-Ray Dataset/Normal  -->  3270\n",
            "number of currupted images removed =  0\n",
            "image shape:  884  x  1112  x  3\n",
            "Downloading data from https://storage.googleapis.com/tensorflow/keras-applications/xception/xception_weights_tf_dim_ordering_tf_kernels_notop.h5\n",
            "83689472/83683744 [==============================] - 1s 0us/step\n",
            "Model: \"model\"\n",
            "_________________________________________________________________\n",
            "Layer (type)                 Output Shape              Param #   \n",
            "=================================================================\n",
            "input_2 (InputLayer)         [(None, 128, 128, 3)]     0         \n",
            "_________________________________________________________________\n",
            "sequential (Sequential)      (None, 128, 128, 3)       0         \n",
            "_________________________________________________________________\n",
            "normalization (Normalization (None, 128, 128, 3)       7         \n",
            "_________________________________________________________________\n",
            "xception (Functional)        (None, 4, 4, 2048)        20861480  \n",
            "_________________________________________________________________\n",
            "global_average_pooling2d (Gl (None, 2048)              0         \n",
            "_________________________________________________________________\n",
            "dense (Dense)                (None, 96)                196704    \n",
            "_________________________________________________________________\n",
            "dropout (Dropout)            (None, 96)                0         \n",
            "_________________________________________________________________\n",
            "dense_1 (Dense)              (None, 1)                 97        \n",
            "=================================================================\n",
            "Total params: 21,058,288\n",
            "Trainable params: 196,801\n",
            "Non-trainable params: 20,861,487\n",
            "_________________________________________________________________\n",
            "Found 5053 files belonging to 2 classes.\n",
            "Using 4043 files for training.\n",
            "Found 5053 files belonging to 2 classes.\n",
            "Using 1010 files for validation.\n",
            "Found 586 files belonging to 2 classes.\n",
            "Epoch 1/20\n",
            "127/127 [==============================] - 46s 287ms/step - loss: 1.1355 - binary_accuracy: 0.4933 - val_loss: 0.5769 - val_binary_accuracy: 0.7406\n",
            "Epoch 2/20\n",
            "127/127 [==============================] - 36s 273ms/step - loss: 0.9078 - binary_accuracy: 0.6637 - val_loss: 0.5144 - val_binary_accuracy: 0.7663\n",
            "Epoch 3/20\n",
            "127/127 [==============================] - 37s 278ms/step - loss: 0.7355 - binary_accuracy: 0.7537 - val_loss: 0.4655 - val_binary_accuracy: 0.7861\n",
            "Epoch 4/20\n",
            "127/127 [==============================] - 37s 278ms/step - loss: 0.6531 - binary_accuracy: 0.8052 - val_loss: 0.4133 - val_binary_accuracy: 0.8149\n",
            "Epoch 5/20\n",
            "127/127 [==============================] - 37s 278ms/step - loss: 0.6140 - binary_accuracy: 0.8109 - val_loss: 0.4198 - val_binary_accuracy: 0.8010\n",
            "Epoch 6/20\n",
            "127/127 [==============================] - 36s 275ms/step - loss: 0.5636 - binary_accuracy: 0.8278 - val_loss: 0.3963 - val_binary_accuracy: 0.8109\n",
            "Epoch 7/20\n",
            "127/127 [==============================] - 37s 279ms/step - loss: 0.5100 - binary_accuracy: 0.8425 - val_loss: 0.3837 - val_binary_accuracy: 0.8168\n",
            "Epoch 8/20\n",
            "127/127 [==============================] - 37s 278ms/step - loss: 0.5061 - binary_accuracy: 0.8460 - val_loss: 0.3881 - val_binary_accuracy: 0.8168\n",
            "Epoch 9/20\n",
            "127/127 [==============================] - 36s 276ms/step - loss: 0.4842 - binary_accuracy: 0.8490 - val_loss: 0.3550 - val_binary_accuracy: 0.8267\n",
            "Epoch 10/20\n",
            "127/127 [==============================] - 37s 279ms/step - loss: 0.4550 - binary_accuracy: 0.8662 - val_loss: 0.3682 - val_binary_accuracy: 0.8248\n",
            "Epoch 11/20\n",
            "127/127 [==============================] - 36s 276ms/step - loss: 0.4468 - binary_accuracy: 0.8620 - val_loss: 0.3478 - val_binary_accuracy: 0.8366\n",
            "Epoch 12/20\n",
            "127/127 [==============================] - 36s 275ms/step - loss: 0.4527 - binary_accuracy: 0.8649 - val_loss: 0.3471 - val_binary_accuracy: 0.8317\n",
            "Epoch 13/20\n",
            "127/127 [==============================] - 37s 279ms/step - loss: 0.4286 - binary_accuracy: 0.8618 - val_loss: 0.3295 - val_binary_accuracy: 0.8455\n",
            "Epoch 14/20\n",
            "127/127 [==============================] - 37s 280ms/step - loss: 0.3911 - binary_accuracy: 0.8851 - val_loss: 0.3333 - val_binary_accuracy: 0.8426\n",
            "Epoch 15/20\n",
            "127/127 [==============================] - 36s 277ms/step - loss: 0.3868 - binary_accuracy: 0.8857 - val_loss: 0.3176 - val_binary_accuracy: 0.8535\n",
            "Epoch 16/20\n",
            "127/127 [==============================] - 36s 277ms/step - loss: 0.3873 - binary_accuracy: 0.8887 - val_loss: 0.3145 - val_binary_accuracy: 0.8545\n",
            "Epoch 17/20\n",
            "127/127 [==============================] - 37s 280ms/step - loss: 0.3677 - binary_accuracy: 0.8931 - val_loss: 0.3143 - val_binary_accuracy: 0.8525\n",
            "Epoch 18/20\n",
            "127/127 [==============================] - 36s 275ms/step - loss: 0.3934 - binary_accuracy: 0.8860 - val_loss: 0.3054 - val_binary_accuracy: 0.8584\n",
            "Epoch 19/20\n",
            "127/127 [==============================] - 36s 277ms/step - loss: 0.3767 - binary_accuracy: 0.8882 - val_loss: 0.3004 - val_binary_accuracy: 0.8614\n",
            "Epoch 20/20\n",
            "127/127 [==============================] - 36s 273ms/step - loss: 0.3760 - binary_accuracy: 0.8863 - val_loss: 0.2968 - val_binary_accuracy: 0.8644\n",
            "Epoch 20/30\n",
            "127/127 [==============================] - 59s 420ms/step - loss: 0.3004 - binary_accuracy: 0.9180 - val_loss: 0.2470 - val_binary_accuracy: 0.9139\n",
            "Epoch 21/30\n",
            "127/127 [==============================] - 53s 410ms/step - loss: 0.1366 - binary_accuracy: 0.9633 - val_loss: 0.1064 - val_binary_accuracy: 0.9653\n",
            "Epoch 22/30\n",
            "127/127 [==============================] - 54s 412ms/step - loss: 0.1249 - binary_accuracy: 0.9687 - val_loss: 0.1066 - val_binary_accuracy: 0.9624\n",
            "Epoch 23/30\n",
            "127/127 [==============================] - 54s 412ms/step - loss: 0.0922 - binary_accuracy: 0.9793 - val_loss: 0.0663 - val_binary_accuracy: 0.9812\n",
            "Epoch 24/30\n",
            "127/127 [==============================] - 53s 409ms/step - loss: 0.0796 - binary_accuracy: 0.9789 - val_loss: 0.1072 - val_binary_accuracy: 0.9653\n",
            "Epoch 25/30\n",
            "127/127 [==============================] - 54s 416ms/step - loss: 0.0512 - binary_accuracy: 0.9886 - val_loss: 0.0549 - val_binary_accuracy: 0.9772\n",
            "Epoch 26/30\n",
            "127/127 [==============================] - 54s 419ms/step - loss: 0.0628 - binary_accuracy: 0.9840 - val_loss: 0.1135 - val_binary_accuracy: 0.9644\n",
            "Epoch 27/30\n",
            "127/127 [==============================] - 54s 418ms/step - loss: 0.0572 - binary_accuracy: 0.9821 - val_loss: 0.0912 - val_binary_accuracy: 0.9693\n",
            "Epoch 28/30\n",
            "127/127 [==============================] - 54s 415ms/step - loss: 0.0627 - binary_accuracy: 0.9836 - val_loss: 0.1006 - val_binary_accuracy: 0.9663\n",
            "Epoch 29/30\n",
            "127/127 [==============================] - 54s 418ms/step - loss: 0.0406 - binary_accuracy: 0.9896 - val_loss: 0.0938 - val_binary_accuracy: 0.9733\n",
            "Epoch 30/30\n",
            "127/127 [==============================] - 55s 421ms/step - loss: 0.0411 - binary_accuracy: 0.9896 - val_loss: 0.0545 - val_binary_accuracy: 0.9861\n"
          ],
          "name": "stdout"
        },
        {
          "output_type": "display_data",
          "data": {
            "image/png": "[encoded data removed]",
            "text/plain": [
              "<Figure size 432x288 with 1 Axes>"
            ]
          },
          "metadata": {
            "tags": [],
            "needs_background": "light"
          }
        },
        {
          "output_type": "display_data",
          "data": {
            "image/png": "[encoded data removed]",
            "text/plain": [
              "<Figure size 576x576 with 2 Axes>"
            ]
          },
          "metadata": {
            "tags": [],
            "needs_background": "light"
          }
        },
        {
          "output_type": "stream",
          "text": [
            "19/19 [==============================] - 4s 141ms/step - loss: 0.8667 - binary_accuracy: 0.8362\n",
            "Test accuracy : 0.8361774682998657\n"
          ],
          "name": "stdout"
        }
      ]
    },
    {
      "cell_type": "code",
      "metadata": {
        "colab": {
          "base_uri": "https://localhost:8080/",
          "height": 536
        },
        "id": "okt32yjtlNip",
        "outputId": "6c3e6825-7960-460c-87c5-65ebb62e84e0"
      },
      "source": [
        "# image file clean up\n",
        "# preprocess_images('./chest_xray', '.jpeg')\n",
        "# preprocess_images('./Curated X-Ray Dataset', '.jpg')\n",
        "\n",
        "# combine files from validation dir to training dir\n",
        "# move_files('chest_xray/val/NORMAL', 'chest_xray/train/NORMAL')\n",
        "# move_files('chest_xray/val/PNEUMONIA', 'chest_xray/train/PNEUMONIA')\n",
        "\n",
        "image_size = (128, 128)\n",
        "\n",
        "models = [\n",
        "  {\n",
        "      'label': 'Base',\n",
        "      'model': 'drive/My Drive/app/xray/xray-model-v1-def.h5',\n",
        "  },\n",
        "  {\n",
        "      'label': 'Augmented',\n",
        "      'model': 'drive/My Drive/app/xray/xray-model-v2-def.h5',\n",
        "  },\n",
        "  {\n",
        "      'label': 'Tuned',\n",
        "      'model': 'drive/My Drive/app/xray/xray-model-tuned-def.h5',\n",
        "  },\n",
        "  {\n",
        "      'label': 'Transferred',\n",
        "      'model': 'drive/My Drive/app/xray/xray-model-transfer-balance-def.h5',\n",
        "  }\n",
        "]\n",
        "\n",
        "test_data_path = \"chest_xray/test\"\n",
        "# test_data_path = \"Curated X-Ray Dataset\"\n",
        "\n",
        "plot_rocs(models, test_data_path, image_size=image_size)\n"
      ],
      "execution_count": null,
      "outputs": [
        {
          "output_type": "stream",
          "text": [
            "Found 586 images belonging to 2 classes.\n"
          ],
          "name": "stdout"
        },
        {
          "output_type": "stream",
          "text": [
            "/usr/local/lib/python3.6/dist-packages/tensorflow/python/keras/engine/training.py:1905: UserWarning: `Model.predict_generator` is deprecated and will be removed in a future version. Please use `Model.predict`, which supports generators.\n",
            "  warnings.warn('`Model.predict_generator` is deprecated and '\n"
          ],
          "name": "stderr"
        },
        {
          "output_type": "stream",
          "text": [
            "293/293 [==============================] - 6s 19ms/step\n",
            "  1/293 [..............................] - ETA: 31s"
          ],
          "name": "stdout"
        },
        {
          "output_type": "stream",
          "text": [
            "/usr/local/lib/python3.6/dist-packages/tensorflow/python/keras/engine/training.py:1905: UserWarning: `Model.predict_generator` is deprecated and will be removed in a future version. Please use `Model.predict`, which supports generators.\n",
            "  warnings.warn('`Model.predict_generator` is deprecated and '\n"
          ],
          "name": "stderr"
        },
        {
          "output_type": "stream",
          "text": [
            "293/293 [==============================] - 5s 18ms/step\n"
          ],
          "name": "stdout"
        },
        {
          "output_type": "stream",
          "text": [
            "/usr/local/lib/python3.6/dist-packages/tensorflow/python/keras/engine/training.py:1905: UserWarning: `Model.predict_generator` is deprecated and will be removed in a future version. Please use `Model.predict`, which supports generators.\n",
            "  warnings.warn('`Model.predict_generator` is deprecated and '\n"
          ],
          "name": "stderr"
        },
        {
          "output_type": "stream",
          "text": [
            "293/293 [==============================] - 6s 19ms/step\n"
          ],
          "name": "stdout"
        },
        {
          "output_type": "stream",
          "text": [
            "/usr/local/lib/python3.6/dist-packages/tensorflow/python/keras/engine/training.py:1905: UserWarning: `Model.predict_generator` is deprecated and will be removed in a future version. Please use `Model.predict`, which supports generators.\n",
            "  warnings.warn('`Model.predict_generator` is deprecated and '\n"
          ],
          "name": "stderr"
        },
        {
          "output_type": "stream",
          "text": [
            "293/293 [==============================] - 8s 24ms/step\n"
          ],
          "name": "stdout"
        },
        {
          "output_type": "display_data",
          "data": {
            "image/png": "[encoded data removed]",
            "text/plain": [
              "<Figure size 432x288 with 1 Axes>"
            ]
          },
          "metadata": {
            "tags": [],
            "needs_background": "light"
          }
        }
      ]
    },
    {
      "cell_type": "code",
      "metadata": {
        "colab": {
          "base_uri": "https://localhost:8080/",
          "height": 485
        },
        "id": "m4S3UEwt8bpg",
        "outputId": "851bc283-75cd-44e1-a33c-d227412e0ad2"
      },
      "source": [
        "# # image file clean up\n",
        "# preprocess_images('./chest_xray', '.jpeg')\n",
        "# preprocess_images('./Curated X-Ray Dataset', '.jpg')\n",
        "\n",
        "# # combine files from validation dir to training dir\n",
        "# move_files('chest_xray/val/NORMAL', 'chest_xray/train/NORMAL')\n",
        "# move_files('chest_xray/val/PNEUMONIA', 'chest_xray/train/PNEUMONIA')\n",
        "\n",
        "image_size = (128, 128)\n",
        "\n",
        "models = [\n",
        "  {\n",
        "      'label': 'Augmented',\n",
        "      'model': 'drive/My Drive/app/xray/xray-model-v2-def.h5',\n",
        "  },\n",
        "  {\n",
        "      'label': 'Tuned',\n",
        "      'model': 'drive/My Drive/app/xray/xray-model-tuned-def.h5',\n",
        "  },\n",
        "  {\n",
        "      'label': 'Transferred',\n",
        "      'model': 'drive/My Drive/app/xray/xray-model-transfer-balance-def.h5',\n",
        "  }\n",
        "]\n",
        "\n",
        "test_data_path = \"chest_xray/test\"\n",
        "# test_data_path = \"Curated X-Ray Dataset\"\n",
        "\n",
        "plot_rocs(models, test_data_path, image_size=image_size)"
      ],
      "execution_count": null,
      "outputs": [
        {
          "output_type": "stream",
          "text": [
            "Found 586 images belonging to 2 classes.\n",
            "  1/293 [..............................] - ETA: 33s"
          ],
          "name": "stdout"
        },
        {
          "output_type": "stream",
          "text": [
            "/usr/local/lib/python3.6/dist-packages/tensorflow/python/keras/engine/training.py:1905: UserWarning: `Model.predict_generator` is deprecated and will be removed in a future version. Please use `Model.predict`, which supports generators.\n",
            "  warnings.warn('`Model.predict_generator` is deprecated and '\n"
          ],
          "name": "stderr"
        },
        {
          "output_type": "stream",
          "text": [
            "293/293 [==============================] - 5s 18ms/step\n",
            "  1/293 [..............................] - ETA: 37s"
          ],
          "name": "stdout"
        },
        {
          "output_type": "stream",
          "text": [
            "/usr/local/lib/python3.6/dist-packages/tensorflow/python/keras/engine/training.py:1905: UserWarning: `Model.predict_generator` is deprecated and will be removed in a future version. Please use `Model.predict`, which supports generators.\n",
            "  warnings.warn('`Model.predict_generator` is deprecated and '\n"
          ],
          "name": "stderr"
        },
        {
          "output_type": "stream",
          "text": [
            "293/293 [==============================] - 6s 20ms/step\n"
          ],
          "name": "stdout"
        },
        {
          "output_type": "stream",
          "text": [
            "/usr/local/lib/python3.6/dist-packages/tensorflow/python/keras/engine/training.py:1905: UserWarning: `Model.predict_generator` is deprecated and will be removed in a future version. Please use `Model.predict`, which supports generators.\n",
            "  warnings.warn('`Model.predict_generator` is deprecated and '\n"
          ],
          "name": "stderr"
        },
        {
          "output_type": "stream",
          "text": [
            "293/293 [==============================] - 8s 25ms/step\n"
          ],
          "name": "stdout"
        },
        {
          "output_type": "display_data",
          "data": {
            "image/png": "[encoded data removed]",
            "text/plain": [
              "<Figure size 432x288 with 1 Axes>"
            ]
          },
          "metadata": {
            "tags": [],
            "needs_background": "light"
          }
        }
      ]
    },
    {
      "cell_type": "code",
      "metadata": {
        "colab": {
          "base_uri": "https://localhost:8080/",
          "height": 485
        },
        "id": "sXZzfYh6cVYy",
        "outputId": "f0ec57ed-1a24-4d35-9129-9b633926389e"
      },
      "source": [
        "# image file clean up\n",
        "# preprocess_images('./chest_xray', '.jpeg')\n",
        "# preprocess_images('./Curated X-Ray Dataset', '.jpg')\n",
        "\n",
        "# # combine files from validation dir to training dir\n",
        "# move_files('chest_xray/val/NORMAL', 'chest_xray/train/NORMAL')\n",
        "# move_files('chest_xray/val/PNEUMONIA', 'chest_xray/train/PNEUMONIA')\n",
        "\n",
        "image_size = (128, 128)\n",
        "\n",
        "models = [\n",
        "  {\n",
        "      'label': 'Base',\n",
        "      'model': 'drive/My Drive/app/xray/xray-model-v1-def.h5',\n",
        "  },\n",
        "  {\n",
        "      'label': 'Augmented',\n",
        "      'model': 'drive/My Drive/app/xray/xray-model-augmented-def.h5',\n",
        "  },\n",
        "  {\n",
        "      'label': 'Transferred',\n",
        "      'model': 'drive/My Drive/app/xray/xray-model-transfer-balance-def.h5',\n",
        "  }\n",
        "]\n",
        "\n",
        "test_data_path = \"chest_xray/test\"\n",
        "# test_data_path = \"Curated X-Ray Dataset\"\n",
        "\n",
        "plot_rocs(models, test_data_path, image_size=image_size)"
      ],
      "execution_count": null,
      "outputs": [
        {
          "output_type": "stream",
          "text": [
            "Found 586 images belonging to 2 classes.\n",
            "  1/293 [..............................] - ETA: 31s"
          ],
          "name": "stdout"
        },
        {
          "output_type": "stream",
          "text": [
            "/usr/local/lib/python3.7/dist-packages/tensorflow/python/keras/engine/training.py:1905: UserWarning: `Model.predict_generator` is deprecated and will be removed in a future version. Please use `Model.predict`, which supports generators.\n",
            "  warnings.warn('`Model.predict_generator` is deprecated and '\n"
          ],
          "name": "stderr"
        },
        {
          "output_type": "stream",
          "text": [
            "293/293 [==============================] - 6s 19ms/step\n",
            "  1/293 [..............................] - ETA: 29s"
          ],
          "name": "stdout"
        },
        {
          "output_type": "stream",
          "text": [
            "/usr/local/lib/python3.7/dist-packages/tensorflow/python/keras/engine/training.py:1905: UserWarning: `Model.predict_generator` is deprecated and will be removed in a future version. Please use `Model.predict`, which supports generators.\n",
            "  warnings.warn('`Model.predict_generator` is deprecated and '\n"
          ],
          "name": "stderr"
        },
        {
          "output_type": "stream",
          "text": [
            "293/293 [==============================] - 6s 19ms/step\n"
          ],
          "name": "stdout"
        },
        {
          "output_type": "stream",
          "text": [
            "/usr/local/lib/python3.7/dist-packages/tensorflow/python/keras/engine/training.py:1905: UserWarning: `Model.predict_generator` is deprecated and will be removed in a future version. Please use `Model.predict`, which supports generators.\n",
            "  warnings.warn('`Model.predict_generator` is deprecated and '\n"
          ],
          "name": "stderr"
        },
        {
          "output_type": "stream",
          "text": [
            "293/293 [==============================] - 9s 26ms/step\n"
          ],
          "name": "stdout"
        },
        {
          "output_type": "display_data",
          "data": {
            "image/png": "[encoded data removed]",
            "text/plain": [
              "<Figure size 432x288 with 1 Axes>"
            ]
          },
          "metadata": {
            "tags": [],
            "needs_background": "light"
          }
        }
      ]
    },
    {
      "cell_type": "code",
      "metadata": {
        "colab": {
          "base_uri": "https://localhost:8080/",
          "height": 485
        },
        "id": "j85vjwiY87M4",
        "outputId": "aba16b70-5e11-4a97-8bfa-6d89ac0b8caa"
      },
      "source": [
        "# # image file clean up\n",
        "# preprocess_images('./chest_xray', '.jpeg')\n",
        "# preprocess_images('./Curated X-Ray Dataset', '.jpg')\n",
        "\n",
        "# # combine files from validation dir to training dir\n",
        "# move_files('chest_xray/val/NORMAL', 'chest_xray/train/NORMAL')\n",
        "# move_files('chest_xray/val/PNEUMONIA', 'chest_xray/train/PNEUMONIA')\n",
        "\n",
        "image_size = (128, 128)\n",
        "\n",
        "models = [\n",
        "  {\n",
        "      'label': 'Augmented',\n",
        "      'model': 'drive/My Drive/app/xray/xray-model-v2-def.h5',\n",
        "  },\n",
        "  {\n",
        "      'label': 'Tuned',\n",
        "      'model': 'drive/My Drive/app/xray/xray-model-tuned-def.h5',\n",
        "  },\n",
        "  {\n",
        "      'label': 'Transferred',\n",
        "      'model': 'drive/My Drive/app/xray/xray-model-transfer-balance-def.h5',\n",
        "  }\n",
        "]\n",
        "\n",
        "# test_data_path = \"chest_xray/test\"\n",
        "test_data_path = \"Curated X-Ray Dataset\"\n",
        "\n",
        "plot_rocs(models, test_data_path, image_size=image_size)"
      ],
      "execution_count": null,
      "outputs": [
        {
          "output_type": "stream",
          "text": [
            "Found 6271 images belonging to 2 classes.\n",
            "   1/3136 [..............................] - ETA: 4:01"
          ],
          "name": "stdout"
        },
        {
          "output_type": "stream",
          "text": [
            "/usr/local/lib/python3.6/dist-packages/tensorflow/python/keras/engine/training.py:1905: UserWarning: `Model.predict_generator` is deprecated and will be removed in a future version. Please use `Model.predict`, which supports generators.\n",
            "  warnings.warn('`Model.predict_generator` is deprecated and '\n"
          ],
          "name": "stderr"
        },
        {
          "output_type": "stream",
          "text": [
            "3136/3136 [==============================] - 128s 41ms/step\n",
            "   1/3136 [..............................] - ETA: 5:05"
          ],
          "name": "stdout"
        },
        {
          "output_type": "stream",
          "text": [
            "/usr/local/lib/python3.6/dist-packages/tensorflow/python/keras/engine/training.py:1905: UserWarning: `Model.predict_generator` is deprecated and will be removed in a future version. Please use `Model.predict`, which supports generators.\n",
            "  warnings.warn('`Model.predict_generator` is deprecated and '\n"
          ],
          "name": "stderr"
        },
        {
          "output_type": "stream",
          "text": [
            "3136/3136 [==============================] - 130s 41ms/step\n"
          ],
          "name": "stdout"
        },
        {
          "output_type": "stream",
          "text": [
            "/usr/local/lib/python3.6/dist-packages/tensorflow/python/keras/engine/training.py:1905: UserWarning: `Model.predict_generator` is deprecated and will be removed in a future version. Please use `Model.predict`, which supports generators.\n",
            "  warnings.warn('`Model.predict_generator` is deprecated and '\n"
          ],
          "name": "stderr"
        },
        {
          "output_type": "stream",
          "text": [
            "3136/3136 [==============================] - 151s 48ms/step\n"
          ],
          "name": "stdout"
        },
        {
          "output_type": "display_data",
          "data": {
            "image/png": "[encoded data removed]",
            "text/plain": [
              "<Figure size 432x288 with 1 Axes>"
            ]
          },
          "metadata": {
            "tags": [],
            "needs_background": "light"
          }
        }
      ]
    },
    {
      "cell_type": "code",
      "metadata": {
        "colab": {
          "base_uri": "https://localhost:8080/",
          "height": 485
        },
        "id": "v9HfgAP-cs3t",
        "outputId": "ad8f5ccb-90e0-4a0a-de08-dd0bdcdb45d3"
      },
      "source": [
        "# # image file clean up\n",
        "# preprocess_images('./chest_xray', '.jpeg')\n",
        "# preprocess_images('./Curated X-Ray Dataset', '.jpg')\n",
        "\n",
        "# # combine files from validation dir to training dir\n",
        "# move_files('chest_xray/val/NORMAL', 'chest_xray/train/NORMAL')\n",
        "# move_files('chest_xray/val/PNEUMONIA', 'chest_xray/train/PNEUMONIA')\n",
        "\n",
        "image_size = (128, 128)\n",
        "\n",
        "models = [\n",
        "  {\n",
        "      'label': 'Base',\n",
        "      'model': 'drive/My Drive/app/xray/xray-model-v1-def.h5',\n",
        "  },\n",
        "  {\n",
        "      'label': 'Augmented',\n",
        "      'model': 'drive/My Drive/app/xray/xray-model-augmented-def.h5',\n",
        "  },\n",
        "  {\n",
        "      'label': 'Transferred',\n",
        "      'model': 'drive/My Drive/app/xray/xray-model-transfer-balance-def.h5',\n",
        "  }\n",
        "]\n",
        "\n",
        "# test_data_path = \"chest_xray/test\"\n",
        "test_data_path = \"Curated X-Ray Dataset\"\n",
        "\n",
        "plot_rocs(models, test_data_path, image_size=image_size)"
      ],
      "execution_count": null,
      "outputs": [
        {
          "output_type": "stream",
          "text": [
            "Found 6271 images belonging to 2 classes.\n",
            "   1/3136 [..............................] - ETA: 4:02"
          ],
          "name": "stdout"
        },
        {
          "output_type": "stream",
          "text": [
            "/usr/local/lib/python3.7/dist-packages/tensorflow/python/keras/engine/training.py:1905: UserWarning: `Model.predict_generator` is deprecated and will be removed in a future version. Please use `Model.predict`, which supports generators.\n",
            "  warnings.warn('`Model.predict_generator` is deprecated and '\n"
          ],
          "name": "stderr"
        },
        {
          "output_type": "stream",
          "text": [
            "3136/3136 [==============================] - 136s 43ms/step\n",
            "   1/3136 [..............................] - ETA: 4:07"
          ],
          "name": "stdout"
        },
        {
          "output_type": "stream",
          "text": [
            "/usr/local/lib/python3.7/dist-packages/tensorflow/python/keras/engine/training.py:1905: UserWarning: `Model.predict_generator` is deprecated and will be removed in a future version. Please use `Model.predict`, which supports generators.\n",
            "  warnings.warn('`Model.predict_generator` is deprecated and '\n"
          ],
          "name": "stderr"
        },
        {
          "output_type": "stream",
          "text": [
            "3136/3136 [==============================] - 129s 41ms/step\n"
          ],
          "name": "stdout"
        },
        {
          "output_type": "stream",
          "text": [
            "/usr/local/lib/python3.7/dist-packages/tensorflow/python/keras/engine/training.py:1905: UserWarning: `Model.predict_generator` is deprecated and will be removed in a future version. Please use `Model.predict`, which supports generators.\n",
            "  warnings.warn('`Model.predict_generator` is deprecated and '\n"
          ],
          "name": "stderr"
        },
        {
          "output_type": "stream",
          "text": [
            "3136/3136 [==============================] - 156s 50ms/step\n"
          ],
          "name": "stdout"
        },
        {
          "output_type": "display_data",
          "data": {
            "image/png": "[encoded data removed]",
            "text/plain": [
              "<Figure size 432x288 with 1 Axes>"
            ]
          },
          "metadata": {
            "tags": [],
            "needs_background": "light"
          }
        }
      ]
    },
    {
      "cell_type": "code",
      "metadata": {
        "colab": {
          "base_uri": "https://localhost:8080/",
          "height": 550
        },
        "id": "jUZGxy32qs0P",
        "outputId": "7c90d777-f085-4cc0-d5ad-9bf4ba653bd2"
      },
      "source": [
        "model_path = 'drive/My Drive/app/xray/xray-model-transfer-balance-def.h5'\n",
        "test_data_path = \"chest_xray/test\"\n",
        "cm = get_confusion_matrix(model_path, test_data_path, image_size=(128, 128))\n",
        "classes = ['Normal', 'Pneumonia']\n",
        "plot_confusion_matrix(cm, classes)"
      ],
      "execution_count": null,
      "outputs": [
        {
          "output_type": "stream",
          "text": [
            "Found 586 images belonging to 2 classes.\n"
          ],
          "name": "stdout"
        },
        {
          "output_type": "stream",
          "text": [
            "/usr/local/lib/python3.7/dist-packages/tensorflow/python/keras/engine/training.py:1905: UserWarning: `Model.predict_generator` is deprecated and will be removed in a future version. Please use `Model.predict`, which supports generators.\n",
            "  warnings.warn('`Model.predict_generator` is deprecated and '\n"
          ],
          "name": "stderr"
        },
        {
          "output_type": "stream",
          "text": [
            "293/293 [==============================] - 9s 28ms/step\n",
            "              precision    recall  f1-score   support\n",
            "\n",
            "      NORMAL       0.98      0.61      0.75       234\n",
            "   PNEUMONIA       0.79      0.99      0.88       352\n",
            "\n",
            "    accuracy                           0.84       586\n",
            "   macro avg       0.89      0.80      0.82       586\n",
            "weighted avg       0.87      0.84      0.83       586\n",
            "\n"
          ],
          "name": "stdout"
        },
        {
          "output_type": "display_data",
          "data": {
            "image/png": "[encoded data removed]",
            "text/plain": [
              "<Figure size 432x288 with 2 Axes>"
            ]
          },
          "metadata": {
            "tags": [],
            "needs_background": "light"
          }
        }
      ]
    },
    {
      "cell_type": "code",
      "metadata": {
        "colab": {
          "base_uri": "https://localhost:8080/",
          "height": 552
        },
        "id": "OrDGoNAzlkHx",
        "outputId": "3e129e2b-7c1e-4999-9cda-983c956c7e05"
      },
      "source": [
        "model_path = 'drive/My Drive/app/xray/xray-model-transfer-balance-def.h5'\n",
        "test_data_path = \"Curated X-Ray Dataset\"\n",
        "cm = get_confusion_matrix(model_path, test_data_path, image_size=(128, 128))\n",
        "classes = ['Normal', 'Pneumonia']\n",
        "plot_confusion_matrix(cm, classes)"
      ],
      "execution_count": null,
      "outputs": [
        {
          "output_type": "stream",
          "text": [
            "Found 6271 images belonging to 2 classes.\n"
          ],
          "name": "stdout"
        },
        {
          "output_type": "stream",
          "text": [
            "/usr/local/lib/python3.7/dist-packages/tensorflow/python/keras/engine/training.py:1905: UserWarning: `Model.predict_generator` is deprecated and will be removed in a future version. Please use `Model.predict`, which supports generators.\n",
            "  warnings.warn('`Model.predict_generator` is deprecated and '\n"
          ],
          "name": "stderr"
        },
        {
          "output_type": "stream",
          "text": [
            "3136/3136 [==============================] - 155s 49ms/step\n",
            "                     precision    recall  f1-score   support\n",
            "\n",
            "             Normal       0.99      0.95      0.97      3270\n",
            "Pneumonia-Bacterial       0.95      0.99      0.97      3001\n",
            "\n",
            "           accuracy                           0.97      6271\n",
            "          macro avg       0.97      0.97      0.97      6271\n",
            "       weighted avg       0.97      0.97      0.97      6271\n",
            "\n"
          ],
          "name": "stdout"
        },
        {
          "output_type": "display_data",
          "data": {
            "image/png": "[encoded data removed]",
            "text/plain": [
              "<Figure size 432x288 with 2 Axes>"
            ]
          },
          "metadata": {
            "tags": [],
            "needs_background": "light"
          }
        }
      ]
    }
  ]
}